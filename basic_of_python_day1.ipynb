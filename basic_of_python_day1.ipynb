{
 "cells": [
  {
   "cell_type": "markdown",
   "id": "83c5d2bf",
   "metadata": {},
   "source": [
    "### datatypes"
   ]
  },
  {
   "cell_type": "code",
   "execution_count": 8,
   "id": "88361c7d",
   "metadata": {},
   "outputs": [
    {
     "data": {
      "text/plain": [
       "10"
      ]
     },
     "execution_count": 8,
     "metadata": {},
     "output_type": "execute_result"
    }
   ],
   "source": [
    "x=10\n",
    "x"
   ]
  },
  {
   "cell_type": "code",
   "execution_count": 9,
   "id": "ef71cfb5",
   "metadata": {},
   "outputs": [
    {
     "name": "stdout",
     "output_type": "stream",
     "text": [
      "10\n"
     ]
    }
   ],
   "source": [
    "print(x)"
   ]
  },
  {
   "cell_type": "code",
   "execution_count": 10,
   "id": "b5b4e2b5",
   "metadata": {},
   "outputs": [
    {
     "data": {
      "text/plain": [
       "int"
      ]
     },
     "execution_count": 10,
     "metadata": {},
     "output_type": "execute_result"
    }
   ],
   "source": [
    "type(x)"
   ]
  },
  {
   "cell_type": "code",
   "execution_count": null,
   "id": "e4bd4613",
   "metadata": {},
   "outputs": [],
   "source": []
  },
  {
   "cell_type": "code",
   "execution_count": 13,
   "id": "f18306f7",
   "metadata": {},
   "outputs": [
    {
     "data": {
      "text/plain": [
       "float"
      ]
     },
     "execution_count": 13,
     "metadata": {},
     "output_type": "execute_result"
    }
   ],
   "source": [
    "x=10.67\n",
    "type(x)"
   ]
  },
  {
   "cell_type": "code",
   "execution_count": 14,
   "id": "6b0a6706",
   "metadata": {},
   "outputs": [
    {
     "name": "stdout",
     "output_type": "stream",
     "text": [
      "10.67\n"
     ]
    }
   ],
   "source": [
    "print(x)"
   ]
  },
  {
   "cell_type": "code",
   "execution_count": 15,
   "id": "a6d94300",
   "metadata": {},
   "outputs": [
    {
     "data": {
      "text/plain": [
       "float"
      ]
     },
     "execution_count": 15,
     "metadata": {},
     "output_type": "execute_result"
    }
   ],
   "source": [
    "type(x)"
   ]
  },
  {
   "cell_type": "code",
   "execution_count": 19,
   "id": "2658d428",
   "metadata": {},
   "outputs": [
    {
     "data": {
      "text/plain": [
       "str"
      ]
     },
     "execution_count": 19,
     "metadata": {},
     "output_type": "execute_result"
    }
   ],
   "source": [
    "u=\"hey siri\"\n",
    "type(u)"
   ]
  },
  {
   "cell_type": "code",
   "execution_count": 21,
   "id": "9bc9d18f",
   "metadata": {},
   "outputs": [
    {
     "data": {
      "text/plain": [
       "bool"
      ]
     },
     "execution_count": 21,
     "metadata": {},
     "output_type": "execute_result"
    }
   ],
   "source": [
    "z=True\n",
    "type(z)"
   ]
  },
  {
   "cell_type": "code",
   "execution_count": 22,
   "id": "eb44f6bb",
   "metadata": {},
   "outputs": [
    {
     "data": {
      "text/plain": [
       "str"
      ]
     },
     "execution_count": 22,
     "metadata": {},
     "output_type": "execute_result"
    }
   ],
   "source": [
    "z=\"True\"\n",
    "type(z)"
   ]
  },
  {
   "cell_type": "code",
   "execution_count": 25,
   "id": "fcc6dd8c",
   "metadata": {},
   "outputs": [
    {
     "name": "stdout",
     "output_type": "stream",
     "text": [
      "<class 'str'>\n",
      "ai\n"
     ]
    }
   ],
   "source": [
    "course=\"ai\"\n",
    "print(type(course))\n",
    "print(course)"
   ]
  },
  {
   "cell_type": "code",
   "execution_count": 26,
   "id": "26fb1c93",
   "metadata": {},
   "outputs": [
    {
     "data": {
      "text/plain": [
       "(str, 'ai')"
      ]
     },
     "execution_count": 26,
     "metadata": {},
     "output_type": "execute_result"
    }
   ],
   "source": [
    "type(course),course"
   ]
  },
  {
   "cell_type": "markdown",
   "id": "ac717e6f",
   "metadata": {},
   "source": [
    "## rules for naming variables"
   ]
  },
  {
   "cell_type": "code",
   "execution_count": 31,
   "id": "ebe995fa",
   "metadata": {},
   "outputs": [
    {
     "data": {
      "text/plain": [
       "['python', 'ai', 'ds']"
      ]
     },
     "execution_count": 31,
     "metadata": {},
     "output_type": "execute_result"
    }
   ],
   "source": [
    "book_names=[\"python\",\"ai\",\"ds\"]\n",
    "book_names"
   ]
  },
  {
   "cell_type": "code",
   "execution_count": 32,
   "id": "de228b3b",
   "metadata": {},
   "outputs": [
    {
     "ename": "SyntaxError",
     "evalue": "invalid syntax (12361024.py, line 1)",
     "output_type": "error",
     "traceback": [
      "\u001b[1;36m  Cell \u001b[1;32mIn[32], line 1\u001b[1;36m\u001b[0m\n\u001b[1;33m    book names=[\"python\",\"ai\",\"ds\"]\u001b[0m\n\u001b[1;37m         ^\u001b[0m\n\u001b[1;31mSyntaxError\u001b[0m\u001b[1;31m:\u001b[0m invalid syntax\n"
     ]
    }
   ],
   "source": [
    "book names=[\"python\",\"ai\",\"ds\"]\n",
    "book names"
   ]
  },
  {
   "cell_type": "code",
   "execution_count": 33,
   "id": "a5740375",
   "metadata": {},
   "outputs": [
    {
     "ename": "SyntaxError",
     "evalue": "cannot assign to expression here. Maybe you meant '==' instead of '='? (84047732.py, line 1)",
     "output_type": "error",
     "traceback": [
      "\u001b[1;36m  Cell \u001b[1;32mIn[33], line 1\u001b[1;36m\u001b[0m\n\u001b[1;33m    book+names=[\"python\",\"ai\",\"ds\"]\u001b[0m\n\u001b[1;37m    ^\u001b[0m\n\u001b[1;31mSyntaxError\u001b[0m\u001b[1;31m:\u001b[0m cannot assign to expression here. Maybe you meant '==' instead of '='?\n"
     ]
    }
   ],
   "source": [
    "book+names=[\"python\",\"ai\",\"ds\"]\n",
    "book+names"
   ]
  },
  {
   "cell_type": "code",
   "execution_count": 34,
   "id": "cd45b0e9",
   "metadata": {},
   "outputs": [
    {
     "ename": "SyntaxError",
     "evalue": "invalid decimal literal (1099644039.py, line 1)",
     "output_type": "error",
     "traceback": [
      "\u001b[1;36m  Cell \u001b[1;32mIn[34], line 1\u001b[1;36m\u001b[0m\n\u001b[1;33m    9book_names=[\"python\",\"ai\",\"ds\"]\u001b[0m\n\u001b[1;37m    ^\u001b[0m\n\u001b[1;31mSyntaxError\u001b[0m\u001b[1;31m:\u001b[0m invalid decimal literal\n"
     ]
    }
   ],
   "source": [
    "9book_names=[\"python\",\"ai\",\"ds\"]\n",
    "9book_names"
   ]
  },
  {
   "cell_type": "markdown",
   "id": "7a0c2f7c",
   "metadata": {},
   "source": [
    "#### space is not allowed\n",
    "#### only alowed special character is underscore\n",
    "#### variable name can star with a/A to z/Z and not with numbers"
   ]
  },
  {
   "cell_type": "markdown",
   "id": "d0aaeacd",
   "metadata": {},
   "source": [
    "## data structures"
   ]
  },
  {
   "cell_type": "markdown",
   "id": "fab7801b",
   "metadata": {},
   "source": [
    "#### sq. brackets\n",
    "#### we can retrieve the elements using index and index starts from 0\n",
    "#### mutable , we can make the changes\n"
   ]
  },
  {
   "cell_type": "code",
   "execution_count": 1,
   "id": "6dab3ee5",
   "metadata": {},
   "outputs": [
    {
     "data": {
      "text/plain": [
       "[1, 2, 3, 4, 'hi']"
      ]
     },
     "execution_count": 1,
     "metadata": {},
     "output_type": "execute_result"
    }
   ],
   "source": [
    "sample_list=[1,2,3,4,\"hi\"]\n",
    "sample_list"
   ]
  },
  {
   "cell_type": "code",
   "execution_count": 2,
   "id": "b70e3347",
   "metadata": {},
   "outputs": [
    {
     "data": {
      "text/plain": [
       "list"
      ]
     },
     "execution_count": 2,
     "metadata": {},
     "output_type": "execute_result"
    }
   ],
   "source": [
    "type(sample_list)"
   ]
  },
  {
   "cell_type": "code",
   "execution_count": 3,
   "id": "008148ac",
   "metadata": {},
   "outputs": [
    {
     "data": {
      "text/plain": [
       "1"
      ]
     },
     "execution_count": 3,
     "metadata": {},
     "output_type": "execute_result"
    }
   ],
   "source": [
    "sample_list[0]"
   ]
  },
  {
   "cell_type": "code",
   "execution_count": 4,
   "id": "88fb431f",
   "metadata": {},
   "outputs": [
    {
     "data": {
      "text/plain": [
       "4"
      ]
     },
     "execution_count": 4,
     "metadata": {},
     "output_type": "execute_result"
    }
   ],
   "source": [
    "sample_list[3]"
   ]
  },
  {
   "cell_type": "code",
   "execution_count": 5,
   "id": "230ddf30",
   "metadata": {},
   "outputs": [
    {
     "ename": "IndexError",
     "evalue": "list index out of range",
     "output_type": "error",
     "traceback": [
      "\u001b[1;31m---------------------------------------------------------------------------\u001b[0m",
      "\u001b[1;31mIndexError\u001b[0m                                Traceback (most recent call last)",
      "Cell \u001b[1;32mIn[5], line 1\u001b[0m\n\u001b[1;32m----> 1\u001b[0m \u001b[43msample_list\u001b[49m\u001b[43m[\u001b[49m\u001b[38;5;241;43m10\u001b[39;49m\u001b[43m]\u001b[49m\n",
      "\u001b[1;31mIndexError\u001b[0m: list index out of range"
     ]
    }
   ],
   "source": [
    "sample_list[10]"
   ]
  },
  {
   "cell_type": "code",
   "execution_count": 6,
   "id": "8d155f44",
   "metadata": {},
   "outputs": [],
   "source": [
    "sample_list[0]=267"
   ]
  },
  {
   "cell_type": "code",
   "execution_count": 7,
   "id": "ad4f1194",
   "metadata": {},
   "outputs": [
    {
     "data": {
      "text/plain": [
       "[267, 2, 3, 4, 'hi']"
      ]
     },
     "execution_count": 7,
     "metadata": {},
     "output_type": "execute_result"
    }
   ],
   "source": [
    "sample_list"
   ]
  },
  {
   "cell_type": "code",
   "execution_count": 10,
   "id": "b2f53ec9",
   "metadata": {},
   "outputs": [
    {
     "data": {
      "text/plain": [
       "[267, 2, 3, 4, 57]"
      ]
     },
     "execution_count": 10,
     "metadata": {},
     "output_type": "execute_result"
    }
   ],
   "source": [
    "sample_list[4]=57\n",
    "sample_list"
   ]
  },
  {
   "cell_type": "markdown",
   "id": "2665c1a9",
   "metadata": {},
   "source": [
    "### paranthesis\n",
    "#### immutable"
   ]
  },
  {
   "cell_type": "code",
   "execution_count": 11,
   "id": "9b7f1d2f",
   "metadata": {},
   "outputs": [
    {
     "data": {
      "text/plain": [
       "(1, 2, 3, 4, 'hi')"
      ]
     },
     "execution_count": 11,
     "metadata": {},
     "output_type": "execute_result"
    }
   ],
   "source": [
    "sample_tuple=(1,2,3,4,\"hi\")\n",
    "sample_tuple"
   ]
  },
  {
   "cell_type": "code",
   "execution_count": 12,
   "id": "368e9304",
   "metadata": {},
   "outputs": [
    {
     "data": {
      "text/plain": [
       "tuple"
      ]
     },
     "execution_count": 12,
     "metadata": {},
     "output_type": "execute_result"
    }
   ],
   "source": [
    "type(sample_tuple)"
   ]
  },
  {
   "cell_type": "code",
   "execution_count": 14,
   "id": "83253a0c",
   "metadata": {},
   "outputs": [
    {
     "data": {
      "text/plain": [
       "1"
      ]
     },
     "execution_count": 14,
     "metadata": {},
     "output_type": "execute_result"
    }
   ],
   "source": [
    "sample_tuple[0]"
   ]
  },
  {
   "cell_type": "code",
   "execution_count": 15,
   "id": "21d9aeb9",
   "metadata": {},
   "outputs": [
    {
     "ename": "TypeError",
     "evalue": "'tuple' object does not support item assignment",
     "output_type": "error",
     "traceback": [
      "\u001b[1;31m---------------------------------------------------------------------------\u001b[0m",
      "\u001b[1;31mTypeError\u001b[0m                                 Traceback (most recent call last)",
      "Cell \u001b[1;32mIn[15], line 1\u001b[0m\n\u001b[1;32m----> 1\u001b[0m sample_tuple[\u001b[38;5;241m0\u001b[39m]\u001b[38;5;241m=\u001b[39m\u001b[38;5;241m908\u001b[39m\n",
      "\u001b[1;31mTypeError\u001b[0m: 'tuple' object does not support item assignment"
     ]
    }
   ],
   "source": [
    "sample_tuple[0]=908"
   ]
  },
  {
   "cell_type": "markdown",
   "id": "7f617050",
   "metadata": {},
   "source": [
    "### {}\n",
    "#### duplicates are not allowed\n",
    "#### arranged according to first place \n",
    "#### cannot access using index\n",
    "#### set is mutable using .add()\n",
    "\n"
   ]
  },
  {
   "cell_type": "code",
   "execution_count": 22,
   "id": "8de32389",
   "metadata": {},
   "outputs": [
    {
     "data": {
      "text/plain": [
       "{1, 10, 11, 2, 27.5, 34, 49, 5, 78, 89, 9, 'boot', 'hi'}"
      ]
     },
     "execution_count": 22,
     "metadata": {},
     "output_type": "execute_result"
    }
   ],
   "source": [
    "set={89,9,78,78,1,10,11,2,34,5,27.5,49,\"hi\",'boot'}\n",
    "set"
   ]
  },
  {
   "cell_type": "code",
   "execution_count": 19,
   "id": "1626a13b",
   "metadata": {},
   "outputs": [
    {
     "ename": "TypeError",
     "evalue": "'set' object does not support item assignment",
     "output_type": "error",
     "traceback": [
      "\u001b[1;31m---------------------------------------------------------------------------\u001b[0m",
      "\u001b[1;31mTypeError\u001b[0m                                 Traceback (most recent call last)",
      "Cell \u001b[1;32mIn[19], line 1\u001b[0m\n\u001b[1;32m----> 1\u001b[0m \u001b[38;5;28mset\u001b[39m[\u001b[38;5;241m0\u001b[39m]\u001b[38;5;241m=\u001b[39m\u001b[38;5;241m100\u001b[39m\n",
      "\u001b[1;31mTypeError\u001b[0m: 'set' object does not support item assignment"
     ]
    }
   ],
   "source": [
    "set[0]=100"
   ]
  },
  {
   "cell_type": "code",
   "execution_count": 21,
   "id": "ec351aa2",
   "metadata": {},
   "outputs": [
    {
     "data": {
      "text/plain": [
       "{1, 10, 100, 11, 2, 27.5, 34, 49, 5, 78, 89, 9, 'boot', 'hi'}"
      ]
     },
     "execution_count": 21,
     "metadata": {},
     "output_type": "execute_result"
    }
   ],
   "source": [
    "set.add(100)\n",
    "set"
   ]
  },
  {
   "cell_type": "markdown",
   "id": "e1761784",
   "metadata": {},
   "source": [
    "## dictionary\n",
    "#### has a key value pair data structure\n",
    "#### key is unique\n",
    "#### values can be duplicated\n",
    "#### values can be retrieved using key\n",
    "#### key cannot be retrieved using value"
   ]
  },
  {
   "cell_type": "code",
   "execution_count": 1,
   "id": "49ebf157",
   "metadata": {},
   "outputs": [
    {
     "data": {
      "text/plain": [
       "{1: 'apple', 2: 45, 3: 'yug', 4: 67.8}"
      ]
     },
     "execution_count": 1,
     "metadata": {},
     "output_type": "execute_result"
    }
   ],
   "source": [
    "sample_dict={1:\"apple\",2:45,3:'yug',4:67.8}\n",
    "sample_dict"
   ]
  },
  {
   "cell_type": "code",
   "execution_count": 2,
   "id": "fb81081f",
   "metadata": {},
   "outputs": [
    {
     "data": {
      "text/plain": [
       "'apple'"
      ]
     },
     "execution_count": 2,
     "metadata": {},
     "output_type": "execute_result"
    }
   ],
   "source": [
    "sample_dict[1]"
   ]
  },
  {
   "cell_type": "code",
   "execution_count": 3,
   "id": "56b7868d",
   "metadata": {},
   "outputs": [
    {
     "data": {
      "text/plain": [
       "{1: 'apple', 2: 'dhamande', 3: 'yug', 4: 67.8, 10: 908}"
      ]
     },
     "execution_count": 3,
     "metadata": {},
     "output_type": "execute_result"
    }
   ],
   "source": [
    "sample_dict[2]=\"dhamande\"\n",
    "sample_dict[10]=908\n",
    "sample_dict"
   ]
  },
  {
   "cell_type": "code",
   "execution_count": 4,
   "id": "01d4884f",
   "metadata": {},
   "outputs": [
    {
     "ename": "KeyError",
     "evalue": "'apple'",
     "output_type": "error",
     "traceback": [
      "\u001b[1;31m---------------------------------------------------------------------------\u001b[0m",
      "\u001b[1;31mKeyError\u001b[0m                                  Traceback (most recent call last)",
      "Cell \u001b[1;32mIn[4], line 1\u001b[0m\n\u001b[1;32m----> 1\u001b[0m \u001b[43msample_dict\u001b[49m\u001b[43m[\u001b[49m\u001b[38;5;124;43m\"\u001b[39;49m\u001b[38;5;124;43mapple\u001b[39;49m\u001b[38;5;124;43m\"\u001b[39;49m\u001b[43m]\u001b[49m\n",
      "\u001b[1;31mKeyError\u001b[0m: 'apple'"
     ]
    }
   ],
   "source": [
    "sample_dict[\"apple\"]"
   ]
  },
  {
   "cell_type": "code",
   "execution_count": null,
   "id": "cb90f258",
   "metadata": {},
   "outputs": [],
   "source": []
  }
 ],
 "metadata": {
  "kernelspec": {
   "display_name": "Python 3 (ipykernel)",
   "language": "python",
   "name": "python3"
  },
  "language_info": {
   "codemirror_mode": {
    "name": "ipython",
    "version": 3
   },
   "file_extension": ".py",
   "mimetype": "text/x-python",
   "name": "python",
   "nbconvert_exporter": "python",
   "pygments_lexer": "ipython3",
   "version": "3.10.9"
  }
 },
 "nbformat": 4,
 "nbformat_minor": 5
}
